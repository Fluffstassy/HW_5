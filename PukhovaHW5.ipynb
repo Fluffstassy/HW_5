{
  "cells": [
    {
      "cell_type": "markdown",
      "metadata": {
        "id": "view-in-github",
        "colab_type": "text"
      },
      "source": [
        "<a href=\"https://colab.research.google.com/github/Fluffstassy/HW_5/blob/main/PukhovaHW5.ipynb\" target=\"_parent\"><img src=\"https://colab.research.google.com/assets/colab-badge.svg\" alt=\"Open In Colab\"/></a>"
      ]
    },
    {
      "cell_type": "markdown",
      "source": [
        "# Домашнее задание к лекции Работа с файловой системой и модули"
      ],
      "metadata": {
        "id": "5AKP7L7ZF9BK"
      }
    },
    {
      "cell_type": "markdown",
      "source": [
        "Переведите содержимое файла purchase_log.txt в словарь purchases вида:\n",
        "{‘1840e0b9d4’: ‘Продукты’, …}\n",
        "\n",
        "Для каждого user_id в файле visit_log.csv определите третий столбец с категорией покупки (если покупка была, сам файл visit_log.csv изменять не надо). Запишите в файл funnel.csv визиты из файла visit_log.csv, в которых были покупки с указанием категории.\n",
        "Учтите условия на данные:\n",
        "содержимое purchase_log.txt помещается в оперативную память компьютера\n",
        "содержимое visit_log.csv - нет; используйте только построчную обработку этого файла"
      ],
      "metadata": {
        "id": "u5Xh5VIdZvhl"
      }
    },
    {
      "cell_type": "code",
      "execution_count": null,
      "metadata": {
        "id": "6dSaGd6rEqr-"
      },
      "outputs": [],
      "source": [
        "import json"
      ]
    },
    {
      "cell_type": "code",
      "execution_count": null,
      "metadata": {
        "id": "NQM5jJmgEuC9"
      },
      "outputs": [],
      "source": [
        "new_dict = {}\n",
        "with open('/content/purchase_log.txt', encoding = 'utf-8') as f :\n",
        "    for line in f:\n",
        "        line = line.strip() #удаляет в строках лишние пробелы и символ переноса строк\n",
        "        dict_ = json.loads(line) #переводит файл в словарь\n",
        "        #print(dict_)\n",
        "        key = dict_['user_id'] #передаем ключ, чтобы получить доступ к элементам словаря\n",
        "        value = dict_['category'] #получаем все значения по категориям\n",
        "        if key != 'user_id': \n",
        "            new_dict.setdefault(key,value) #метод возвращает занчение словаря, соответствующее значению ключа"
      ]
    },
    {
      "cell_type": "code",
      "execution_count": null,
      "metadata": {
        "id": "AUyWn7GKEuM9"
      },
      "outputs": [],
      "source": [
        "with open('visit_log.csv', 'r') as f, open('result.csv', 'w', encoding = 'utf-8') as w_f: #открываем логи визитов для чтения, и создаем новый файл для записи результата\n",
        "    for column in f: #читаем файл с логами построчно\n",
        "        line = column.strip().split(',')\n",
        "        if line[0] in new_dict.keys():\n",
        "            line.append(new_dict[line[0]])\n",
        "            add_line = ', '.join(line)\n",
        "            w_f.write(add_line + '\\n') #записываем в файл с резултатом с переносом строки\n",
        "\n",
        "        "
      ]
    }
  ],
  "metadata": {
    "colab": {
      "collapsed_sections": [],
      "provenance": [],
      "authorship_tag": "ABX9TyNGXVyrH5c7+ZtLOs4wyanr",
      "include_colab_link": true
    },
    "kernelspec": {
      "display_name": "Python 3",
      "name": "python3"
    },
    "language_info": {
      "name": "python"
    }
  },
  "nbformat": 4,
  "nbformat_minor": 0
}